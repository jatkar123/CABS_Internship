{
  "nbformat": 4,
  "nbformat_minor": 0,
  "metadata": {
    "accelerator": "GPU",
    "colab": {
      "name": "SAR_Generation",
      "provenance": [],
      "collapsed_sections": []
    },
    "kernelspec": {
      "display_name": "Python 3",
      "name": "python3"
    }
  },
  "cells": [
    {
      "cell_type": "code",
      "metadata": {
        "colab": {
          "base_uri": "https://localhost:8080/"
        },
        "id": "rnRV6fL0lcWd",
        "outputId": "b4bd32ad-145e-491b-af80-0c5cfa39d78a"
      },
      "source": [
        "from google.colab import drive\n",
        "drive.mount('/content/drive', force_remount=True) "
      ],
      "execution_count": null,
      "outputs": [
        {
          "output_type": "stream",
          "text": [
            "Mounted at /content/drive\n"
          ],
          "name": "stdout"
        }
      ]
    },
    {
      "cell_type": "code",
      "metadata": {
        "colab": {
          "base_uri": "https://localhost:8080/"
        },
        "id": "HPF1-5-tlknR",
        "outputId": "cc472746-ae8b-4552-f071-45847124d33c"
      },
      "source": [
        "%tensorflow_version 1.x\n",
        "import tensorflow\n",
        "print(tensorflow.__version__)"
      ],
      "execution_count": null,
      "outputs": [
        {
          "output_type": "stream",
          "text": [
            "TensorFlow 1.x selected.\n",
            "1.15.2\n"
          ],
          "name": "stdout"
        }
      ]
    },
    {
      "cell_type": "code",
      "metadata": {
        "colab": {
          "base_uri": "https://localhost:8080/"
        },
        "id": "20CHHpmSlpyj",
        "outputId": "0d809956-561e-4ff0-8585-8eb51ce8efc4"
      },
      "source": [
        "!git clone https://github.com/NVlabs/stylegan.git\n",
        "!ls /content/stylegan/"
      ],
      "execution_count": null,
      "outputs": [
        {
          "output_type": "stream",
          "text": [
            "Cloning into 'stylegan'...\n",
            "remote: Enumerating objects: 86, done.\u001b[K\n",
            "remote: Total 86 (delta 0), reused 0 (delta 0), pack-reused 86\u001b[K\n",
            "Unpacking objects: 100% (86/86), done.\n",
            "config.py\t     LICENSE.txt\t    run_metrics.py\n",
            "dataset_tool.py      metrics\t\t    stylegan-teaser.png\n",
            "dnnlib\t\t     pretrained_example.py  training\n",
            "generate_figures.py  README.md\t\t    train.py\n"
          ],
          "name": "stdout"
        }
      ]
    },
    {
      "cell_type": "code",
      "metadata": {
        "id": "5EZVrdOyl7p8"
      },
      "source": [
        "%mkdir trained"
      ],
      "execution_count": null,
      "outputs": []
    },
    {
      "cell_type": "code",
      "metadata": {
        "colab": {
          "base_uri": "https://localhost:8080/"
        },
        "id": "ezBCS0i4mAiN",
        "outputId": "e39fa54d-62ea-4dda-93b7-2f2d2f7a1689"
      },
      "source": [
        "\n",
        "import os\n",
        "if os.path.isdir(\"/content/drive/My Drive/colab-sg2-ada\"):\n",
        "    %cd \"/content/drive/My Drive/colab-sg2-ada/stylegan2-ada\"\n",
        "else:\n",
        "    #install script\n",
        "    %cd \"/content/drive/My Drive/\"\n",
        "    !mkdir colab-sg2-ada\n",
        "    %cd colab-sg2-ada\n",
        "    !git clone https://github.com/dvschultz/stylegan2-ada\n",
        "    %cd stylegan2-ada\n",
        "    !mkdir downloads\n",
        "    !mkdir dataset"
      ],
      "execution_count": null,
      "outputs": [
        {
          "output_type": "stream",
          "text": [
            "/content/drive/My Drive/colab-sg2-ada/stylegan2-ada\n"
          ],
          "name": "stdout"
        }
      ]
    },
    {
      "cell_type": "code",
      "metadata": {
        "colab": {
          "base_uri": "https://localhost:8080/"
        },
        "id": "tRkeTYkbmBQu",
        "outputId": "2a11c60a-9222-4afb-c00b-a6f022e5da20"
      },
      "source": [
        "%cd \"/content/drive/My Drive/colab-sg2-ada/stylegan2-ada\"\n",
        "!git config --global user.name \"test\"\n",
        "!git config --global user.email \"test@test.com\"\n",
        "!git fetch origin\n",
        "!git checkout origin/main -- train.py"
      ],
      "execution_count": null,
      "outputs": [
        {
          "output_type": "stream",
          "text": [
            "/content/drive/My Drive/colab-sg2-ada/stylegan2-ada\n"
          ],
          "name": "stdout"
        }
      ]
    },
    {
      "cell_type": "code",
      "metadata": {
        "id": "IwCgxREOmDUM"
      },
      "source": [
        "import sys\n",
        "sys.path.insert(0, \"/content/stylegan\")\n",
        "import dnnlib"
      ],
      "execution_count": null,
      "outputs": []
    },
    {
      "cell_type": "code",
      "metadata": {
        "colab": {
          "base_uri": "https://localhost:8080/",
          "height": 238
        },
        "id": "T4oXrEdfmHAg",
        "outputId": "c605a8e2-0880-41d6-ecc5-52ebaaa120ad"
      },
      "source": [
        "# resize all the images to same size\n",
        "import os\n",
        "from tqdm import tqdm\n",
        "import cv2\n",
        "from PIL import Image\n",
        "#from resizeimage import resizeimage\n",
        "path = '/content/drive/My Drive/ships2/'\n",
        "for filename in tqdm(os.listdir(path),desc ='reading images ...'):\n",
        "  image = Image.open(path+filename)\n",
        "  image = image.resize((512,512))\n",
        "  image.save(path+filename, image.format)"
      ],
      "execution_count": null,
      "outputs": [
        {
          "output_type": "stream",
          "text": [
            "reading images ...:   0%|          | 0/256 [00:00<?, ?it/s]\n"
          ],
          "name": "stderr"
        },
        {
          "output_type": "error",
          "ename": "AttributeError",
          "evalue": "ignored",
          "traceback": [
            "\u001b[0;31m---------------------------------------------------------------------------\u001b[0m",
            "\u001b[0;31mAttributeError\u001b[0m                            Traceback (most recent call last)",
            "\u001b[0;32m<ipython-input-15-8bc194471272>\u001b[0m in \u001b[0;36m<module>\u001b[0;34m()\u001b[0m\n\u001b[1;32m      9\u001b[0m   \u001b[0mimage\u001b[0m \u001b[0;34m=\u001b[0m \u001b[0mImage\u001b[0m\u001b[0;34m.\u001b[0m\u001b[0mopen\u001b[0m\u001b[0;34m(\u001b[0m\u001b[0mpath\u001b[0m\u001b[0;34m+\u001b[0m\u001b[0mfilename\u001b[0m\u001b[0;34m)\u001b[0m\u001b[0;34m\u001b[0m\u001b[0;34m\u001b[0m\u001b[0m\n\u001b[1;32m     10\u001b[0m   \u001b[0mimage\u001b[0m \u001b[0;34m=\u001b[0m \u001b[0mimage\u001b[0m\u001b[0;34m.\u001b[0m\u001b[0mresize\u001b[0m\u001b[0;34m(\u001b[0m\u001b[0;34m(\u001b[0m\u001b[0;36m512\u001b[0m\u001b[0;34m,\u001b[0m\u001b[0;36m512\u001b[0m\u001b[0;34m)\u001b[0m\u001b[0;34m)\u001b[0m\u001b[0;34m\u001b[0m\u001b[0;34m\u001b[0m\u001b[0m\n\u001b[0;32m---> 11\u001b[0;31m   \u001b[0mimage\u001b[0m \u001b[0;34m=\u001b[0m \u001b[0mimage\u001b[0m\u001b[0;34m.\u001b[0m\u001b[0mreshape\u001b[0m\u001b[0;34m(\u001b[0m\u001b[0;34m(\u001b[0m\u001b[0;36m1\u001b[0m\u001b[0;34m,\u001b[0m\u001b[0;36m1\u001b[0m\u001b[0;34m,\u001b[0m\u001b[0;36m512\u001b[0m\u001b[0;34m,\u001b[0m\u001b[0;36m1\u001b[0m\u001b[0;34m)\u001b[0m\u001b[0;34m)\u001b[0m\u001b[0;34m\u001b[0m\u001b[0;34m\u001b[0m\u001b[0m\n\u001b[0m\u001b[1;32m     12\u001b[0m   \u001b[0mimage\u001b[0m\u001b[0;34m.\u001b[0m\u001b[0msave\u001b[0m\u001b[0;34m(\u001b[0m\u001b[0mpath\u001b[0m\u001b[0;34m+\u001b[0m\u001b[0mfilename\u001b[0m\u001b[0;34m,\u001b[0m \u001b[0mimage\u001b[0m\u001b[0;34m.\u001b[0m\u001b[0mformat\u001b[0m\u001b[0;34m)\u001b[0m\u001b[0;34m\u001b[0m\u001b[0;34m\u001b[0m\u001b[0m\n",
            "\u001b[0;31mAttributeError\u001b[0m: 'Image' object has no attribute 'reshape'"
          ]
        }
      ]
    },
    {
      "cell_type": "code",
      "metadata": {
        "colab": {
          "base_uri": "https://localhost:8080/"
        },
        "id": "Pjo-4sNHmJij",
        "outputId": "c8c091dd-d7a5-4d06-e11c-284eb9eede52"
      },
      "source": [
        "\n",
        "dataset_path = \"/content/drive/MyDrive/ships2\"\n",
        "dataset_name = \"sartf\"\n",
        "\n",
        "#! python /content/stylegan/dataset_tool.py create_from_images /content/stylegan/datasets/custom-dataset//content/drive/MyDrive/ships2\n",
        "! python /content/stylegan/dataset_tool.py create_from_images ./datasets/{dataset_name} {dataset_path}"
      ],
      "execution_count": null,
      "outputs": [
        {
          "output_type": "stream",
          "text": [
            "WARNING:tensorflow:From /content/stylegan/dnnlib/tflib/tfutil.py:34: The name tf.Dimension is deprecated. Please use tf.compat.v1.Dimension instead.\n",
            "\n",
            "WARNING:tensorflow:From /content/stylegan/dnnlib/tflib/tfutil.py:74: The name tf.variable_scope is deprecated. Please use tf.compat.v1.variable_scope instead.\n",
            "\n",
            "WARNING:tensorflow:From /content/stylegan/dnnlib/tflib/tfutil.py:128: The name tf.Session is deprecated. Please use tf.compat.v1.Session instead.\n",
            "\n",
            "Loading images from \"/content/drive/MyDrive/ships2\"\n",
            "Creating dataset \"./datasets/sartf\"\n",
            "0 / 256\rWARNING:tensorflow:From /content/stylegan/dataset_tool.py:75: The name tf.python_io.TFRecordOptions is deprecated. Please use tf.io.TFRecordOptions instead.\n",
            "\n",
            "WARNING:tensorflow:From /content/stylegan/dataset_tool.py:75: The name tf.python_io.TFRecordCompressionType is deprecated. Please use tf.compat.v1.python_io.TFRecordCompressionType instead.\n",
            "\n",
            "WARNING:tensorflow:From /content/stylegan/dataset_tool.py:78: The name tf.python_io.TFRecordWriter is deprecated. Please use tf.io.TFRecordWriter instead.\n",
            "\n",
            "/content/stylegan/dataset_tool.py:87: DeprecationWarning: tostring() is deprecated. Use tobytes() instead.\n",
            "  'data': tf.train.Feature(bytes_list=tf.train.BytesList(value=[quant.tostring()]))}))\n",
            "Added 256 images.\n"
          ],
          "name": "stdout"
        }
      ]
    },
    {
      "cell_type": "code",
      "metadata": {
        "id": "aZ56rZEKmNE_",
        "colab": {
          "base_uri": "https://localhost:8080/"
        },
        "outputId": "17af49fc-86a0-4763-f180-1c5fad352c77"
      },
      "source": [
        "dataset_name = \"sartf\"\n",
        "#how often should the model generate samples and a .pkl file\n",
        "snapshot_count = 6\n",
        "#should the images be mirrored left to right?\n",
        "mirrored = True\n",
        "#should the images be mirrored top to bottom?\n",
        "mirroredY = False\n",
        "#metrics? \n",
        "metric_list = None\n",
        "#augments\n",
        "augs = \"bg\"\n",
        "\n",
        "resume_from = \"/content/drive/MyDrive/colab-sg2-ada/stylegan2-ada/results/0015-sartf-mirror-mirrory-11gb-gpu-bg-resumecustom/network-snapshot-000016.pkl\"\n",
        "\n",
        
        "!python train.py --outdir ./results --snap={snapshot_count} --cfg=11gb-gpu --data=./datasets/{dataset_name} --augpipe={augs} --mirror={mirrored} --mirrory={mirroredY} --metrics={metric_list} --resume={resume_from} --augpipe=\"bg\""
      ],
      "execution_count": null,
      "outputs": [
        {
          "output_type": "stream",
          "text": [
            "tcmalloc: large alloc 4294967296 bytes == 0x55776494c000 @  0x7f0a9715a001 0x7f0a9435d54f 0x7f0a943adb58 0x7f0a943b1b17 0x7f0a94450203 0x55775dcf00e4 0x55775dcefde0 0x55775dd646f5 0x55775dd5ee0d 0x55775dcf202c 0x55775dd32d39 0x55775dd2fc84 0x55775dcf08e9 0x55775dd64ade 0x55775dd5eb0e 0x55775dc30e2b 0x55775dd611e6 0x55775dd5eb0e 0x55775dc30e2b 0x55775dd611e6 0x55775dd5ee0d 0x55775dc30e2b 0x55775dd611e6 0x55775dcf169a 0x55775dd5fa45 0x55775dd5eb0e 0x55775dd5e813 0x55775de28592 0x55775de2890d 0x55775de287b6 0x55775de00103\n",
            "tcmalloc: large alloc 4294967296 bytes == 0x55786494c000 @  0x7f0a971581e7 0x7f0a9435d46e 0x7f0a943adc7b 0x7f0a943ae35f 0x7f0a94450103 0x55775dcf00e4 0x55775dcefde0 0x55775dd646f5 0x55775dd5eb0e 0x55775dcf177a 0x55775dd6086a 0x55775dd5eb0e 0x55775dcf177a 0x55775dd6086a 0x55775dd5eb0e 0x55775dcf177a 0x55775dd6086a 0x55775dcf169a 0x55775dd5fa45 0x55775dd5eb0e 0x55775dcf177a 0x55775dd63e50 0x55775dd5eb0e 0x55775dcf177a 0x55775dd6086a 0x55775dd5ee0d 0x55775dcf202c 0x55775dd32d39 0x55775dd2fc84 0x55775dcf08e9 0x55775dd64ade\n",
            "tcmalloc: large alloc 4294967296 bytes == 0x557965b1e000 @  0x7f0a971581e7 0x7f0a9435d46e 0x7f0a943adc7b 0x7f0a943ae35f 0x7f0a50d5f235 0x7f0a506e2792 0x7f0a506e2d42 0x7f0a5069baee 0x55775dceffd7 0x55775dcefde0 0x55775dd64244 0x55775dcf169a 0x55775dd5fc9e 0x55775dd5ee0d 0x55775dc30eb0 0x55775dd611e6 0x55775dd5eb0e 0x55775dcf177a 0x55775dd5fc9e 0x55775dd5ee0d 0x55775dcf177a 0x55775dd5fc9e 0x55775dcf169a 0x55775dd5fc9e 0x55775dd5eb0e 0x55775dcf1e11 0x55775dcf2231 0x55775dd611e6 0x55775dd5eb0e 0x55775dcf177a 0x55775dd5fa45\n",
            "\n",
            "Training options:\n",
            "{\n",
            "  \"G_args\": {\n",
            "    \"func_name\": \"training.networks.G_main\",\n",
            "    \"fmap_base\": 16384,\n",
            "    \"fmap_max\": 512,\n",
            "    \"mapping_layers\": 8,\n",
            "    \"num_fp16_res\": 4,\n",
            "    \"conv_clamp\": 256\n",
            "  },\n",
            "  \"D_args\": {\n",
            "    \"func_name\": \"training.networks.D_main\",\n",
            "    \"mbstd_group_size\": 4,\n",
            "    \"fmap_base\": 16384,\n",
            "    \"fmap_max\": 512,\n",
            "    \"num_fp16_res\": 4,\n",
            "    \"conv_clamp\": 256\n",
            "  },\n",
            "  \"G_opt_args\": {\n",
            "    \"beta1\": 0.0,\n",
            "    \"beta2\": 0.99,\n",
            "    \"learning_rate\": 0.002\n",
            "  },\n",
            "  \"D_opt_args\": {\n",
            "    \"beta1\": 0.0,\n",
            "    \"beta2\": 0.99,\n",
            "    \"learning_rate\": 0.002\n",
            "  },\n",
            "  \"loss_args\": {\n",
            "    \"func_name\": \"training.loss.stylegan2\",\n",
            "    \"r1_gamma\": 10\n",
            "  },\n",
            "  \"augment_args\": {\n",
            "    \"class_name\": \"training.augment.AdaptiveAugment\",\n",
            "    \"tune_heuristic\": \"rt\",\n",
            "    \"tune_target\": 0.6,\n",
            "    \"apply_func\": \"training.augment.augment_pipeline\",\n",
            "    \"apply_args\": {\n",
            "      \"xflip\": 1,\n",
            "      \"rotate90\": 1,\n",
            "      \"xint\": 1,\n",
            "      \"scale\": 1,\n",
            "      \"rotate\": 1,\n",
            "      \"aniso\": 1,\n",
            "      \"xfrac\": 1\n",
            "    },\n",
            "    \"tune_kimg\": 100\n",
            "  },\n",
            "  \"num_gpus\": 1,\n",
            "  \"image_snapshot_ticks\": 6,\n",
            "  \"network_snapshot_ticks\": 6,\n",
            "  \"train_dataset_args\": {\n",
            "    \"path\": \"./datasets/sartf\",\n",
            "    \"max_label_size\": 0,\n",
            "    \"use_raw\": false,\n",
            "    \"resolution\": 512,\n",
            "    \"mirror_augment\": true,\n",
            "    \"mirror_augment_v\": false\n",
            "  },\n",
            "  \"metric_arg_list\": [],\n",
            "  \"metric_dataset_args\": {\n",
            "    \"path\": \"./datasets/sartf\",\n",
            "    \"max_label_size\": 0,\n",
            "    \"use_raw\": false,\n",
            "    \"resolution\": 512,\n",
            "    \"mirror_augment\": true,\n",
            "    \"mirror_augment_v\": false\n",
            "  },\n",
            "  \"total_kimg\": 25000,\n",
            "  \"minibatch_size\": 4,\n",
            "  \"minibatch_gpu\": 4,\n",
            "  \"G_smoothing_kimg\": 10,\n",
            "  \"G_smoothing_rampup\": null,\n",
            "  \"resume_pkl\": \"https://nvlabs-fi-cdn.nvidia.com/stylegan2-ada/pretrained/transfer-learning-source-nets/ffhq-res1024-mirror-stylegan2-noaug.pkl\",\n",
            "  \"run_dir\": \"./results/00051-sartf-mirror-11gb-gpu-bg-resumeffhq1024\"\n",
            "}\n",
            "\n",
            "Output directory:  ./results/00051-sartf-mirror-11gb-gpu-bg-resumeffhq1024\n",
            "Training data:     ./datasets/sartf\n",
            "Training length:   25000 kimg\n",
            "Resolution:        512\n",
            "Number of GPUs:    1\n",
            "\n",
            "Creating output directory...\n",
            "Loading training set...\n",
            "tcmalloc: large alloc 4294967296 bytes == 0x55776494c000 @  0x7f0a9715a001 0x7f0a9435d54f 0x7f0a943adb58 0x7f0a943b1b17 0x7f0a94450203 0x55775dcf00e4 0x55775dcefde0 0x55775dd646f5 0x55775dd5ee0d 0x55775dcf202c 0x55775dd32d39 0x55775dd2fc84 0x55775dcf08e9 0x55775dd64ade 0x55775dd5eb0e 0x55775dc30e2b 0x55775dd611e6 0x55775dd5eb0e 0x55775dc30e2b 0x55775dd611e6 0x55775dd5ee0d 0x55775dc30e2b 0x55775dd611e6 0x55775dcf169a 0x55775dd5fa45 0x55775dd5eb0e 0x55775dd5e813 0x55775de28592 0x55775de2890d 0x55775de287b6 0x55775de00103\n",
            "tcmalloc: large alloc 4294967296 bytes == 0x557a65b1e000 @  0x7f0a971581e7 0x7f0a9435d46e 0x7f0a943adc7b 0x7f0a943ae35f 0x7f0a94450103 0x55775dcf00e4 0x55775dcefde0 0x55775dd646f5 0x55775dd5eb0e 0x55775dcf177a 0x55775dd6086a 0x55775dd5eb0e 0x55775dcf177a 0x55775dd6086a 0x55775dd5eb0e 0x55775dcf177a 0x55775dd6086a 0x55775dcf169a 0x55775dd5fa45 0x55775dd5eb0e 0x55775dcf177a 0x55775dd63e50 0x55775dd5eb0e 0x55775dcf177a 0x55775dd6086a 0x55775dd5ee0d 0x55775dcf202c 0x55775dd32d39 0x55775dd2fc84 0x55775dcf08e9 0x55775dd64ade\n",
            "tcmalloc: large alloc 4294967296 bytes == 0x557a65b1e000 @  0x7f0a971581e7 0x7f0a9435d46e 0x7f0a943adc7b 0x7f0a943ae35f 0x7f0a50d5f235 0x7f0a506e2792 0x7f0a506e2d42 0x7f0a5069baee 0x55775dceffd7 0x55775dcefde0 0x55775dd64244 0x55775dcf169a 0x55775dd5fc9e 0x55775dd5ee0d 0x55775dc30eb0 0x55775dd611e6 0x55775dd5eb0e 0x55775dcf177a 0x55775dd5fc9e 0x55775dd5ee0d 0x55775dcf177a 0x55775dd5fc9e 0x55775dcf169a 0x55775dd5fc9e 0x55775dd5eb0e 0x55775dcf1e11 0x55775dcf2231 0x55775dd611e6 0x55775dd5eb0e 0x55775dcf177a 0x55775dd5fa45\n",
            "Image shape: [1, 512, 512]\n",
            "Label shape: [0]\n",
            "\n",
            "Constructing networks...\n",
            "Setting up TensorFlow plugin \"fused_bias_act.cu\": Loading... Done.\n",
            "Setting up TensorFlow plugin \"upfirdn_2d.cu\": Loading... Done.\n",
            "Resuming from \"https://nvlabs-fi-cdn.nvidia.com/stylegan2-ada/pretrained/transfer-learning-source-nets/ffhq-res1024-mirror-stylegan2-noaug.pkl\"\n",
            "Downloading https://nvlabs-fi-cdn.nvidia.com/stylegan2-ada/pretrained/transfer-learning-source-nets/ffhq-res1024-mirror-stylegan2-noaug.pkl ... done\n",
            "Traceback (most recent call last):\n",
            "  File \"train.py\", line 645, in <module>\n",
            "    main()\n",
            "  File \"train.py\", line 637, in main\n",
            "    run_training(**vars(args))\n",
            "  File \"train.py\", line 522, in run_training\n",
            "    training_loop.training_loop(**training_options)\n",
            "  File \"/content/drive/My Drive/colab-sg2-ada/stylegan2-ada/training/training_loop.py\", line 129, in training_loop\n",
            "    G.copy_vars_from(rG)\n",
            "  File \"/content/drive/My Drive/colab-sg2-ada/stylegan2-ada/dnnlib/tflib/network.py\", line 512, in copy_vars_from\n",
            "    self._components[name].copy_vars_from(src_comp)\n",
            "  File \"/content/drive/My Drive/colab-sg2-ada/stylegan2-ada/dnnlib/tflib/network.py\", line 509, in copy_vars_from\n",
            "    self.copy_own_vars_from(src_net)\n",
            "  File \"/content/drive/My Drive/colab-sg2-ada/stylegan2-ada/dnnlib/tflib/network.py\", line 482, in copy_own_vars_from\n",
            "    tfutil.set_vars({self._get_vars()[name]: value for name, value in value_dict.items() if name in self._get_vars()})\n",
            "  File \"/content/drive/My Drive/colab-sg2-ada/stylegan2-ada/dnnlib/tflib/tfutil.py\", line 227, in set_vars\n",
            "    run(ops, feed_dict)\n",
            "  File \"/content/drive/My Drive/colab-sg2-ada/stylegan2-ada/dnnlib/tflib/tfutil.py\", line 33, in run\n",
            "    return tf.get_default_session().run(*args, **kwargs)\n",
            "  File \"/tensorflow-1.15.2/python3.7/tensorflow_core/python/client/session.py\", line 956, in run\n",
            "    run_metadata_ptr)\n",
            "  File \"/tensorflow-1.15.2/python3.7/tensorflow_core/python/client/session.py\", line 1156, in _run\n",
            "    (np_val.shape, subfeed_t.name, str(subfeed_t.get_shape())))\n",
            "ValueError: Cannot feed value of shape (1, 1, 512, 3) for Tensor 'G_synthesis/4x4/ToRGB/weight/new_value:0', which has shape '(1, 1, 512, 1)'\n"
          ],
          "name": "stdout"
        }
      ]
    }
  ]
}
